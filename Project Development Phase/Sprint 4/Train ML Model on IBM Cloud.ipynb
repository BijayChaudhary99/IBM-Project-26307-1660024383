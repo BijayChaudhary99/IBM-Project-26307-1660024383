{
 "cells": [
  {
   "cell_type": "markdown",
   "metadata": {
    "id": "DO6nF-px4O5C"
   },
   "source": [
    "**Importing the Libraries**"
   ]
  },
  {
   "cell_type": "code",
   "execution_count": 3,
   "metadata": {
    "executionInfo": {
     "elapsed": 853,
     "status": "ok",
     "timestamp": 1667553278734,
     "user": {
      "displayName": "19L242 - SANJANA S",
      "userId": "16751164439065073696"
     },
     "user_tz": -330
    },
    "id": "YbsJTgc86HGi"
   },
   "outputs": [],
   "source": [
    "import pandas as pd\n",
    "import numpy as np\n",
    "import pickle\n",
    "import matplotlib.pyplot as plt \n",
    "import seaborn as sns\n",
    "import sklearn\n",
    "from sklearn.tree import DecisionTreeClassifier\n",
    "from sklearn.ensemble import GradientBoostingClassifier, RandomForestClassifier\n",
    "from sklearn.neighbors import KNeighborsClassifier\n",
    "from sklearn.model_selection import RandomizedSearchCV\n",
    "from sklearn.model_selection import train_test_split\n",
    "from sklearn.preprocessing import StandardScaler\n",
    "from sklearn.metrics import accuracy_score, classification_report, confusion_matrix, f1_score"
   ]
  },
  {
   "cell_type": "markdown",
   "metadata": {
    "id": "-xSb_Lk_4XII"
   },
   "source": [
    "**Reading the Processed Dataset**"
   ]
  },
  {
   "cell_type": "code",
   "execution_count": 5,
   "metadata": {
    "executionInfo": {
     "elapsed": 16,
     "status": "ok",
     "timestamp": 1667551625451,
     "user": {
      "displayName": "19L242 - SANJANA S",
      "userId": "16751164439065073696"
     },
     "user_tz": -330
    },
    "id": "0gYSkr60IyNq"
   },
   "outputs": [],
   "source": [
    "final_df=pd.read_csv('loan_approval_dataset.csv')"
   ]
  },
  {
   "cell_type": "code",
   "execution_count": 6,
   "metadata": {
    "colab": {
     "base_uri": "https://localhost:8080/",
     "height": 488
    },
    "executionInfo": {
     "elapsed": 17,
     "status": "ok",
     "timestamp": 1667551625452,
     "user": {
      "displayName": "19L242 - SANJANA S",
      "userId": "16751164439065073696"
     },
     "user_tz": -330
    },
    "id": "HpPO1G2GI4HK",
    "outputId": "504ad44b-8bd6-4a36-e728-b10269dd88e5"
   },
   "outputs": [
    {
     "data": {
      "text/html": [
       "<div>\n",
       "<style scoped>\n",
       "    .dataframe tbody tr th:only-of-type {\n",
       "        vertical-align: middle;\n",
       "    }\n",
       "\n",
       "    .dataframe tbody tr th {\n",
       "        vertical-align: top;\n",
       "    }\n",
       "\n",
       "    .dataframe thead th {\n",
       "        text-align: right;\n",
       "    }\n",
       "</style>\n",
       "<table border=\"1\" class=\"dataframe\">\n",
       "  <thead>\n",
       "    <tr style=\"text-align: right;\">\n",
       "      <th></th>\n",
       "      <th>Gender</th>\n",
       "      <th>Married</th>\n",
       "      <th>Dependents</th>\n",
       "      <th>Education</th>\n",
       "      <th>Self_Employed</th>\n",
       "      <th>ApplicantIncome</th>\n",
       "      <th>CoapplicantIncome</th>\n",
       "      <th>LoanAmount</th>\n",
       "      <th>Loan_Amount_Term</th>\n",
       "      <th>Credit_History</th>\n",
       "      <th>Property_Area</th>\n",
       "      <th>Loan_Status</th>\n",
       "    </tr>\n",
       "  </thead>\n",
       "  <tbody>\n",
       "    <tr>\n",
       "      <th>0</th>\n",
       "      <td>0</td>\n",
       "      <td>0</td>\n",
       "      <td>0</td>\n",
       "      <td>0</td>\n",
       "      <td>0</td>\n",
       "      <td>2995</td>\n",
       "      <td>0</td>\n",
       "      <td>60</td>\n",
       "      <td>360</td>\n",
       "      <td>1</td>\n",
       "      <td>2</td>\n",
       "      <td>1</td>\n",
       "    </tr>\n",
       "    <tr>\n",
       "      <th>1</th>\n",
       "      <td>1</td>\n",
       "      <td>1</td>\n",
       "      <td>3</td>\n",
       "      <td>0</td>\n",
       "      <td>0</td>\n",
       "      <td>9504</td>\n",
       "      <td>0</td>\n",
       "      <td>275</td>\n",
       "      <td>360</td>\n",
       "      <td>1</td>\n",
       "      <td>0</td>\n",
       "      <td>1</td>\n",
       "    </tr>\n",
       "    <tr>\n",
       "      <th>2</th>\n",
       "      <td>1</td>\n",
       "      <td>0</td>\n",
       "      <td>0</td>\n",
       "      <td>0</td>\n",
       "      <td>0</td>\n",
       "      <td>3600</td>\n",
       "      <td>0</td>\n",
       "      <td>80</td>\n",
       "      <td>360</td>\n",
       "      <td>1</td>\n",
       "      <td>2</td>\n",
       "      <td>0</td>\n",
       "    </tr>\n",
       "    <tr>\n",
       "      <th>3</th>\n",
       "      <td>1</td>\n",
       "      <td>1</td>\n",
       "      <td>2</td>\n",
       "      <td>0</td>\n",
       "      <td>0</td>\n",
       "      <td>3283</td>\n",
       "      <td>2035</td>\n",
       "      <td>148</td>\n",
       "      <td>360</td>\n",
       "      <td>1</td>\n",
       "      <td>2</td>\n",
       "      <td>1</td>\n",
       "    </tr>\n",
       "    <tr>\n",
       "      <th>4</th>\n",
       "      <td>1</td>\n",
       "      <td>1</td>\n",
       "      <td>1</td>\n",
       "      <td>0</td>\n",
       "      <td>0</td>\n",
       "      <td>7250</td>\n",
       "      <td>1667</td>\n",
       "      <td>110</td>\n",
       "      <td>360</td>\n",
       "      <td>0</td>\n",
       "      <td>2</td>\n",
       "      <td>0</td>\n",
       "    </tr>\n",
       "    <tr>\n",
       "      <th>...</th>\n",
       "      <td>...</td>\n",
       "      <td>...</td>\n",
       "      <td>...</td>\n",
       "      <td>...</td>\n",
       "      <td>...</td>\n",
       "      <td>...</td>\n",
       "      <td>...</td>\n",
       "      <td>...</td>\n",
       "      <td>...</td>\n",
       "      <td>...</td>\n",
       "      <td>...</td>\n",
       "      <td>...</td>\n",
       "    </tr>\n",
       "    <tr>\n",
       "      <th>689</th>\n",
       "      <td>0</td>\n",
       "      <td>0</td>\n",
       "      <td>0</td>\n",
       "      <td>0</td>\n",
       "      <td>0</td>\n",
       "      <td>2393</td>\n",
       "      <td>0</td>\n",
       "      <td>19</td>\n",
       "      <td>375</td>\n",
       "      <td>1</td>\n",
       "      <td>1</td>\n",
       "      <td>0</td>\n",
       "    </tr>\n",
       "    <tr>\n",
       "      <th>690</th>\n",
       "      <td>1</td>\n",
       "      <td>1</td>\n",
       "      <td>2</td>\n",
       "      <td>1</td>\n",
       "      <td>0</td>\n",
       "      <td>3601</td>\n",
       "      <td>1590</td>\n",
       "      <td>120</td>\n",
       "      <td>360</td>\n",
       "      <td>1</td>\n",
       "      <td>0</td>\n",
       "      <td>1</td>\n",
       "    </tr>\n",
       "    <tr>\n",
       "      <th>691</th>\n",
       "      <td>1</td>\n",
       "      <td>1</td>\n",
       "      <td>0</td>\n",
       "      <td>0</td>\n",
       "      <td>0</td>\n",
       "      <td>3000</td>\n",
       "      <td>3416</td>\n",
       "      <td>56</td>\n",
       "      <td>180</td>\n",
       "      <td>1</td>\n",
       "      <td>1</td>\n",
       "      <td>1</td>\n",
       "    </tr>\n",
       "    <tr>\n",
       "      <th>692</th>\n",
       "      <td>0</td>\n",
       "      <td>0</td>\n",
       "      <td>0</td>\n",
       "      <td>0</td>\n",
       "      <td>0</td>\n",
       "      <td>2378</td>\n",
       "      <td>0</td>\n",
       "      <td>46</td>\n",
       "      <td>360</td>\n",
       "      <td>1</td>\n",
       "      <td>0</td>\n",
       "      <td>0</td>\n",
       "    </tr>\n",
       "    <tr>\n",
       "      <th>693</th>\n",
       "      <td>1</td>\n",
       "      <td>1</td>\n",
       "      <td>0</td>\n",
       "      <td>1</td>\n",
       "      <td>0</td>\n",
       "      <td>1863</td>\n",
       "      <td>1041</td>\n",
       "      <td>98</td>\n",
       "      <td>360</td>\n",
       "      <td>1</td>\n",
       "      <td>1</td>\n",
       "      <td>1</td>\n",
       "    </tr>\n",
       "  </tbody>\n",
       "</table>\n",
       "<p>694 rows × 12 columns</p>\n",
       "</div>"
      ],
      "text/plain": [
       "     Gender  Married  Dependents  Education  Self_Employed  ApplicantIncome  \\\n",
       "0         0        0           0          0              0             2995   \n",
       "1         1        1           3          0              0             9504   \n",
       "2         1        0           0          0              0             3600   \n",
       "3         1        1           2          0              0             3283   \n",
       "4         1        1           1          0              0             7250   \n",
       "..      ...      ...         ...        ...            ...              ...   \n",
       "689       0        0           0          0              0             2393   \n",
       "690       1        1           2          1              0             3601   \n",
       "691       1        1           0          0              0             3000   \n",
       "692       0        0           0          0              0             2378   \n",
       "693       1        1           0          1              0             1863   \n",
       "\n",
       "     CoapplicantIncome  LoanAmount  Loan_Amount_Term  Credit_History  \\\n",
       "0                    0          60               360               1   \n",
       "1                    0         275               360               1   \n",
       "2                    0          80               360               1   \n",
       "3                 2035         148               360               1   \n",
       "4                 1667         110               360               0   \n",
       "..                 ...         ...               ...             ...   \n",
       "689                  0          19               375               1   \n",
       "690               1590         120               360               1   \n",
       "691               3416          56               180               1   \n",
       "692                  0          46               360               1   \n",
       "693               1041          98               360               1   \n",
       "\n",
       "     Property_Area  Loan_Status  \n",
       "0                2            1  \n",
       "1                0            1  \n",
       "2                2            0  \n",
       "3                2            1  \n",
       "4                2            0  \n",
       "..             ...          ...  \n",
       "689              1            0  \n",
       "690              0            1  \n",
       "691              1            1  \n",
       "692              0            0  \n",
       "693              1            1  \n",
       "\n",
       "[694 rows x 12 columns]"
      ]
     },
     "execution_count": 6,
     "metadata": {},
     "output_type": "execute_result"
    }
   ],
   "source": [
    "final_df"
   ]
  },
  {
   "cell_type": "markdown",
   "metadata": {
    "id": "YwfgXZm_I9zS"
   },
   "source": [
    "**Splitting as Training and Testing Data**"
   ]
  },
  {
   "cell_type": "code",
   "execution_count": 7,
   "metadata": {
    "executionInfo": {
     "elapsed": 16,
     "status": "ok",
     "timestamp": 1667551625453,
     "user": {
      "displayName": "19L242 - SANJANA S",
      "userId": "16751164439065073696"
     },
     "user_tz": -330
    },
    "id": "TDH0bLHZJBjj"
   },
   "outputs": [],
   "source": [
    "train,test = train_test_split(final_df, test_size=0.33, random_state=42)"
   ]
  },
  {
   "cell_type": "code",
   "execution_count": 9,
   "metadata": {
    "executionInfo": {
     "elapsed": 418,
     "status": "ok",
     "timestamp": 1667552799542,
     "user": {
      "displayName": "19L242 - SANJANA S",
      "userId": "16751164439065073696"
     },
     "user_tz": -330
    },
    "id": "c8EXDKvS4_cQ"
   },
   "outputs": [],
   "source": [
    "x=final_df.drop([\"Loan_Status\"],axis=1)\n",
    "y=final_df.Loan_Status\n",
    "x_train,x_test,y_train,y_test=train_test_split(x,y,test_size=0.2,random_state=42)"
   ]
  },
  {
   "cell_type": "markdown",
   "metadata": {
    "id": "X1zzsAtcJ9Oz"
   },
   "source": [
    "# **Model Building**"
   ]
  },
  {
   "cell_type": "markdown",
   "metadata": {
    "id": "oddklZkm2ttf"
   },
   "source": [
    "**Decision Tree Model**"
   ]
  },
  {
   "cell_type": "code",
   "execution_count": 10,
   "metadata": {
    "executionInfo": {
     "elapsed": 611,
     "status": "ok",
     "timestamp": 1667551795443,
     "user": {
      "displayName": "19L242 - SANJANA S",
      "userId": "16751164439065073696"
     },
     "user_tz": -330
    },
    "id": "Ch4t1Wgc1QGw"
   },
   "outputs": [],
   "source": [
    "def decisionTree(x_train, x_test, y_train, y_test):\n",
    "    dt=DecisionTreeClassifier() \n",
    "    dt.fit(x_train,y_train) \n",
    "    yPred = dt.predict(x_test)\n",
    "    print('***DecisionTreeClassifier***') \n",
    "    print('Confusion matrix')\n",
    "    print(confusion_matrix(y_test,yPred)) \n",
    "    print('Classification report') \n",
    "    print(classification_report (y_test,yPred))\n",
    "    print(\"score\")\n",
    "    print(dt.score(x_test,y_test))"
   ]
  },
  {
   "cell_type": "markdown",
   "metadata": {
    "id": "bub4YCwi2waI"
   },
   "source": [
    "**Random Forest Model**"
   ]
  },
  {
   "cell_type": "code",
   "execution_count": 11,
   "metadata": {
    "executionInfo": {
     "elapsed": 758,
     "status": "ok",
     "timestamp": 1667553232485,
     "user": {
      "displayName": "19L242 - SANJANA S",
      "userId": "16751164439065073696"
     },
     "user_tz": -330
    },
    "id": "bm63-kpK2qlx"
   },
   "outputs": [],
   "source": [
    "def randomForest(x_train, x_test, y_train, y_test):\n",
    "    rf = RandomForestClassifier() \n",
    "    rf.fit(x_train,y_train) \n",
    "    yPred = rf.predict(x_test) \n",
    "    print('***RandomForestClassifier***') \n",
    "    print('Confusion matrix')\n",
    "    print(confusion_matrix(y_test,yPred))\n",
    "    print('Classification report')\n",
    "    print(classification_report(y_test,yPred))\n",
    "    print(\"score\")\n",
    "    print(rf.score(x_test,y_test))"
   ]
  },
  {
   "cell_type": "markdown",
   "metadata": {
    "id": "FWAXC8N83MjO"
   },
   "source": [
    "**KNN**"
   ]
  },
  {
   "cell_type": "code",
   "execution_count": 12,
   "metadata": {
    "executionInfo": {
     "elapsed": 5,
     "status": "ok",
     "timestamp": 1667552314813,
     "user": {
      "displayName": "19L242 - SANJANA S",
      "userId": "16751164439065073696"
     },
     "user_tz": -330
    },
    "id": "WnPL-xUv3PXP"
   },
   "outputs": [],
   "source": [
    "def KNN(x_train, x_test, y_train, y_test):\n",
    "    knn = KNeighborsClassifier()\n",
    "    knn.fit(x_train,y_train)\n",
    "    yPred = knn.predict(x_test)\n",
    "    print('***KNeighborsClassifier***') \n",
    "    print('Confusion matrix')\n",
    "    print(confusion_matrix(y_test,yPred)) \n",
    "    print('Classification report')\n",
    "    print(classification_report(y_test,yPred))\n",
    "    print(\"score\")\n",
    "    print(knn.score(x_test,y_test))"
   ]
  },
  {
   "cell_type": "markdown",
   "metadata": {
    "id": "wj_LI2B93Qz3"
   },
   "source": [
    "**XG Boost Model**\n",
    "\n",
    "\n"
   ]
  },
  {
   "cell_type": "code",
   "execution_count": 13,
   "metadata": {
    "executionInfo": {
     "elapsed": 6,
     "status": "ok",
     "timestamp": 1667552394997,
     "user": {
      "displayName": "19L242 - SANJANA S",
      "userId": "16751164439065073696"
     },
     "user_tz": -330
    },
    "id": "ir5dM3OI3aZG"
   },
   "outputs": [],
   "source": [
    "def xgboost(x_train, x_test, y_train, y_test):\n",
    "    xg = GradientBoostingClassifier()\n",
    "    xg.fit(x_train,y_train)\n",
    "    yPred = xg.predict(x_test)\n",
    "    print('***Gradient BoostingClassifier***') \n",
    "    print('Confusion matrix')\n",
    "    print(confusion_matrix(y_test,yPred)) \n",
    "    print('Classification report')\n",
    "    print(classification_report(y_test,yPred))\n",
    "    print(\"score\")\n",
    "    print(xg.score(x_test,y_test))"
   ]
  },
  {
   "cell_type": "markdown",
   "metadata": {
    "id": "kv9Z7n7Y328a"
   },
   "source": [
    "**Comparing the Models**"
   ]
  },
  {
   "cell_type": "code",
   "execution_count": 14,
   "metadata": {
    "colab": {
     "base_uri": "https://localhost:8080/"
    },
    "executionInfo": {
     "elapsed": 441,
     "status": "ok",
     "timestamp": 1667553106842,
     "user": {
      "displayName": "19L242 - SANJANA S",
      "userId": "16751164439065073696"
     },
     "user_tz": -330
    },
    "id": "RInVbymM4v5f",
    "outputId": "0e0c8be6-819d-407d-eb0f-a83c97fc4265"
   },
   "outputs": [
    {
     "name": "stdout",
     "output_type": "stream",
     "text": [
      "***DecisionTreeClassifier***\n",
      "Confusion matrix\n",
      "[[64 17]\n",
      " [20 38]]\n",
      "Classification report\n",
      "              precision    recall  f1-score   support\n",
      "\n",
      "           0       0.76      0.79      0.78        81\n",
      "           1       0.69      0.66      0.67        58\n",
      "\n",
      "    accuracy                           0.73       139\n",
      "   macro avg       0.73      0.72      0.72       139\n",
      "weighted avg       0.73      0.73      0.73       139\n",
      "\n",
      "score\n",
      "0.7338129496402878\n"
     ]
    }
   ],
   "source": [
    "decisionTree(x_train, x_test, y_train, y_test)"
   ]
  },
  {
   "cell_type": "code",
   "execution_count": 15,
   "metadata": {
    "colab": {
     "base_uri": "https://localhost:8080/"
    },
    "executionInfo": {
     "elapsed": 1602,
     "status": "ok",
     "timestamp": 1667553285800,
     "user": {
      "displayName": "19L242 - SANJANA S",
      "userId": "16751164439065073696"
     },
     "user_tz": -330
    },
    "id": "V2kbborh6tQc",
    "outputId": "d4d5845b-04b7-4e30-ea3c-6b14abeeed4c"
   },
   "outputs": [
    {
     "name": "stdout",
     "output_type": "stream",
     "text": [
      "***RandomForestClassifier***\n",
      "Confusion matrix\n",
      "[[57 24]\n",
      " [ 8 50]]\n",
      "Classification report\n",
      "              precision    recall  f1-score   support\n",
      "\n",
      "           0       0.88      0.70      0.78        81\n",
      "           1       0.68      0.86      0.76        58\n",
      "\n",
      "    accuracy                           0.77       139\n",
      "   macro avg       0.78      0.78      0.77       139\n",
      "weighted avg       0.79      0.77      0.77       139\n",
      "\n",
      "score\n",
      "0.7697841726618705\n"
     ]
    }
   ],
   "source": [
    "randomForest(x_train, x_test, y_train, y_test)"
   ]
  },
  {
   "cell_type": "code",
   "execution_count": 16,
   "metadata": {
    "colab": {
     "base_uri": "https://localhost:8080/"
    },
    "executionInfo": {
     "elapsed": 398,
     "status": "ok",
     "timestamp": 1667553302032,
     "user": {
      "displayName": "19L242 - SANJANA S",
      "userId": "16751164439065073696"
     },
     "user_tz": -330
    },
    "id": "Q36-IiEN69t9",
    "outputId": "2605b0a4-fef2-4218-9bbb-7039bf1c6691"
   },
   "outputs": [
    {
     "name": "stdout",
     "output_type": "stream",
     "text": [
      "***KNeighborsClassifier***\n",
      "Confusion matrix\n",
      "[[49 32]\n",
      " [20 38]]\n",
      "Classification report\n",
      "              precision    recall  f1-score   support\n",
      "\n",
      "           0       0.71      0.60      0.65        81\n",
      "           1       0.54      0.66      0.59        58\n",
      "\n",
      "    accuracy                           0.63       139\n",
      "   macro avg       0.63      0.63      0.62       139\n",
      "weighted avg       0.64      0.63      0.63       139\n",
      "\n",
      "score\n",
      "0.6258992805755396\n"
     ]
    }
   ],
   "source": [
    "KNN(x_train, x_test, y_train, y_test)"
   ]
  },
  {
   "cell_type": "code",
   "execution_count": 17,
   "metadata": {
    "colab": {
     "base_uri": "https://localhost:8080/"
    },
    "executionInfo": {
     "elapsed": 671,
     "status": "ok",
     "timestamp": 1667553315923,
     "user": {
      "displayName": "19L242 - SANJANA S",
      "userId": "16751164439065073696"
     },
     "user_tz": -330
    },
    "id": "bBVQwFs67Dl-",
    "outputId": "3f0716a6-ffdc-46d6-b87c-68bba940651f"
   },
   "outputs": [
    {
     "name": "stdout",
     "output_type": "stream",
     "text": [
      "***Gradient BoostingClassifier***\n",
      "Confusion matrix\n",
      "[[55 26]\n",
      " [ 5 53]]\n",
      "Classification report\n",
      "              precision    recall  f1-score   support\n",
      "\n",
      "           0       0.92      0.68      0.78        81\n",
      "           1       0.67      0.91      0.77        58\n",
      "\n",
      "    accuracy                           0.78       139\n",
      "   macro avg       0.79      0.80      0.78       139\n",
      "weighted avg       0.81      0.78      0.78       139\n",
      "\n",
      "score\n",
      "0.7769784172661871\n"
     ]
    }
   ],
   "source": [
    "xgboost(x_train, x_test, y_train, y_test)"
   ]
  },
  {
   "cell_type": "markdown",
   "metadata": {
    "id": "rJKVe15U6d5W"
   },
   "source": [
    "**Evaluating Performance of the Model and Saving the model**"
   ]
  },
  {
   "cell_type": "code",
   "execution_count": 18,
   "metadata": {
    "colab": {
     "base_uri": "https://localhost:8080/"
    },
    "executionInfo": {
     "elapsed": 2241,
     "status": "ok",
     "timestamp": 1667553593791,
     "user": {
      "displayName": "19L242 - SANJANA S",
      "userId": "16751164439065073696"
     },
     "user_tz": -330
    },
    "id": "zQ5trEjJ6nSz",
    "outputId": "88868931-4e60-4c05-cec1-8b486b126c93"
   },
   "outputs": [
    {
     "data": {
      "text/plain": [
       "0.7939526639557919"
      ]
     },
     "execution_count": 18,
     "metadata": {},
     "output_type": "execute_result"
    }
   ],
   "source": [
    "from sklearn.model_selection import cross_val_score\n",
    "rf = RandomForestClassifier()\n",
    "rf.fit(x_train,y_train)\n",
    "yPred = rf.predict(x_test)\n",
    "f1_score(yPred,y_test, average='weighted')\n",
    "cv = cross_val_score(rf,x,y,cv=5)\n",
    "np.mean(cv)"
   ]
  },
  {
   "cell_type": "code",
   "execution_count": 19,
   "metadata": {},
   "outputs": [
    {
     "name": "stdout",
     "output_type": "stream",
     "text": [
      "Requirement already satisfied: ibm-watson-machine-learning in /opt/conda/envs/Python-3.9/lib/python3.9/site-packages (1.0.257)\n",
      "Requirement already satisfied: certifi in /opt/conda/envs/Python-3.9/lib/python3.9/site-packages (from ibm-watson-machine-learning) (2022.9.24)\n",
      "Requirement already satisfied: requests in /opt/conda/envs/Python-3.9/lib/python3.9/site-packages (from ibm-watson-machine-learning) (2.26.0)\n",
      "Requirement already satisfied: lomond in /opt/conda/envs/Python-3.9/lib/python3.9/site-packages (from ibm-watson-machine-learning) (0.3.3)\n",
      "Requirement already satisfied: tabulate in /opt/conda/envs/Python-3.9/lib/python3.9/site-packages (from ibm-watson-machine-learning) (0.8.9)\n",
      "Requirement already satisfied: ibm-cos-sdk==2.11.* in /opt/conda/envs/Python-3.9/lib/python3.9/site-packages (from ibm-watson-machine-learning) (2.11.0)\n",
      "Requirement already satisfied: pandas<1.5.0,>=0.24.2 in /opt/conda/envs/Python-3.9/lib/python3.9/site-packages (from ibm-watson-machine-learning) (1.3.4)\n",
      "Requirement already satisfied: urllib3 in /opt/conda/envs/Python-3.9/lib/python3.9/site-packages (from ibm-watson-machine-learning) (1.26.7)\n",
      "Requirement already satisfied: packaging in /opt/conda/envs/Python-3.9/lib/python3.9/site-packages (from ibm-watson-machine-learning) (21.3)\n",
      "Requirement already satisfied: importlib-metadata in /opt/conda/envs/Python-3.9/lib/python3.9/site-packages (from ibm-watson-machine-learning) (4.8.2)\n",
      "Requirement already satisfied: ibm-cos-sdk-s3transfer==2.11.0 in /opt/conda/envs/Python-3.9/lib/python3.9/site-packages (from ibm-cos-sdk==2.11.*->ibm-watson-machine-learning) (2.11.0)\n",
      "Requirement already satisfied: jmespath<1.0.0,>=0.7.1 in /opt/conda/envs/Python-3.9/lib/python3.9/site-packages (from ibm-cos-sdk==2.11.*->ibm-watson-machine-learning) (0.10.0)\n",
      "Requirement already satisfied: ibm-cos-sdk-core==2.11.0 in /opt/conda/envs/Python-3.9/lib/python3.9/site-packages (from ibm-cos-sdk==2.11.*->ibm-watson-machine-learning) (2.11.0)\n",
      "Requirement already satisfied: python-dateutil<3.0.0,>=2.1 in /opt/conda/envs/Python-3.9/lib/python3.9/site-packages (from ibm-cos-sdk-core==2.11.0->ibm-cos-sdk==2.11.*->ibm-watson-machine-learning) (2.8.2)\n",
      "Requirement already satisfied: pytz>=2017.3 in /opt/conda/envs/Python-3.9/lib/python3.9/site-packages (from pandas<1.5.0,>=0.24.2->ibm-watson-machine-learning) (2021.3)\n",
      "Requirement already satisfied: numpy>=1.17.3 in /opt/conda/envs/Python-3.9/lib/python3.9/site-packages (from pandas<1.5.0,>=0.24.2->ibm-watson-machine-learning) (1.20.3)\n",
      "Requirement already satisfied: six>=1.5 in /opt/conda/envs/Python-3.9/lib/python3.9/site-packages (from python-dateutil<3.0.0,>=2.1->ibm-cos-sdk-core==2.11.0->ibm-cos-sdk==2.11.*->ibm-watson-machine-learning) (1.15.0)\n",
      "Requirement already satisfied: idna<4,>=2.5 in /opt/conda/envs/Python-3.9/lib/python3.9/site-packages (from requests->ibm-watson-machine-learning) (3.3)\n",
      "Requirement already satisfied: charset-normalizer~=2.0.0 in /opt/conda/envs/Python-3.9/lib/python3.9/site-packages (from requests->ibm-watson-machine-learning) (2.0.4)\n",
      "Requirement already satisfied: zipp>=0.5 in /opt/conda/envs/Python-3.9/lib/python3.9/site-packages (from importlib-metadata->ibm-watson-machine-learning) (3.6.0)\n",
      "Requirement already satisfied: pyparsing!=3.0.5,>=2.0.2 in /opt/conda/envs/Python-3.9/lib/python3.9/site-packages (from packaging->ibm-watson-machine-learning) (3.0.4)\n"
     ]
    }
   ],
   "source": [
    "!pip install -U ibm-watson-machine-learning"
   ]
  },
  {
   "cell_type": "code",
   "execution_count": 20,
   "metadata": {},
   "outputs": [],
   "source": [
    "from ibm_watson_machine_learning import APIClient\n",
    "import json"
   ]
  },
  {
   "cell_type": "code",
   "execution_count": 21,
   "metadata": {},
   "outputs": [],
   "source": [
    "wml_credentials = {\n",
    "    \"apikey\" : \"yjJRKquYkWeXxU3CGuvFC0Q1f29M8lpidj6PZ8B0RQgY\",\n",
    "    \"url\" : \"https://eu-gb.ml.cloud.ibm.com\"\n",
    "}"
   ]
  },
  {
   "cell_type": "code",
   "execution_count": 22,
   "metadata": {},
   "outputs": [],
   "source": [
    "wml_client = APIClient(wml_credentials)"
   ]
  },
  {
   "cell_type": "code",
   "execution_count": 24,
   "metadata": {},
   "outputs": [
    {
     "name": "stdout",
     "output_type": "stream",
     "text": [
      "Note: 'limit' is not provided. Only first 50 records will be displayed if the number of records exceed 50\n",
      "------------------------------------  ----------------  ------------------------\n",
      "ID                                    NAME              CREATED\n",
      "99b1a4a9-7cc5-4852-9388-f8907fe20de7  sl_223_ibm_space  2022-11-16T10:44:29.321Z\n",
      "------------------------------------  ----------------  ------------------------\n"
     ]
    }
   ],
   "source": [
    "wml_client.spaces.list()"
   ]
  },
  {
   "cell_type": "code",
   "execution_count": 25,
   "metadata": {},
   "outputs": [],
   "source": [
    "SPACE_ID= \"99b1a4a9-7cc5-4852-9388-f8907fe20de7\""
   ]
  },
  {
   "cell_type": "code",
   "execution_count": 26,
   "metadata": {},
   "outputs": [
    {
     "data": {
      "text/plain": [
       "'SUCCESS'"
      ]
     },
     "execution_count": 26,
     "metadata": {},
     "output_type": "execute_result"
    }
   ],
   "source": [
    "wml_client.set.default_space(SPACE_ID)"
   ]
  },
  {
   "cell_type": "code",
   "execution_count": 28,
   "metadata": {},
   "outputs": [
    {
     "data": {
      "text/plain": [
       "'1.0.2'"
      ]
     },
     "execution_count": 28,
     "metadata": {},
     "output_type": "execute_result"
    }
   ],
   "source": [
    "import sklearn\n",
    "sklearn.__version__"
   ]
  },
  {
   "cell_type": "code",
   "execution_count": 29,
   "metadata": {},
   "outputs": [],
   "source": [
    "MODEL_NAME = 'Model_building_SL_223_IBM'\n",
    "DEPLOYMENT_NAME = 'Smart-Lender_223_IBM'\n",
    "DEMO_MODEL = rf"
   ]
  },
  {
   "cell_type": "code",
   "execution_count": 30,
   "metadata": {},
   "outputs": [],
   "source": [
    "software_spec_uid = wml_client.software_specifications.get_id_by_name('runtime-22.1-py3.9')"
   ]
  },
  {
   "cell_type": "code",
   "execution_count": 31,
   "metadata": {},
   "outputs": [],
   "source": [
    "model_props = {\n",
    "    wml_client.repository.ModelMetaNames.NAME: MODEL_NAME, \n",
    "    wml_client.repository.ModelMetaNames.TYPE: 'scikit-learn_1.0', \n",
    "    wml_client.repository.ModelMetaNames.SOFTWARE_SPEC_UID: software_spec_uid \n",
    "}"
   ]
  },
  {
   "cell_type": "code",
   "execution_count": 32,
   "metadata": {},
   "outputs": [],
   "source": [
    "model_details = wml_client.repository.store_model(\n",
    "    model=DEMO_MODEL, \n",
    "    meta_props=model_props, \n",
    "    training_data=x_train, \n",
    "    training_target=y_train\n",
    ")"
   ]
  },
  {
   "cell_type": "code",
   "execution_count": 33,
   "metadata": {},
   "outputs": [
    {
     "data": {
      "text/plain": [
       "{'entity': {'hybrid_pipeline_software_specs': [],\n",
       "  'label_column': 'Loan_Status',\n",
       "  'schemas': {'input': [{'fields': [{'name': 'Gender', 'type': 'int64'},\n",
       "      {'name': 'Married', 'type': 'int64'},\n",
       "      {'name': 'Dependents', 'type': 'int64'},\n",
       "      {'name': 'Education', 'type': 'int64'},\n",
       "      {'name': 'Self_Employed', 'type': 'int64'},\n",
       "      {'name': 'ApplicantIncome', 'type': 'int64'},\n",
       "      {'name': 'CoapplicantIncome', 'type': 'int64'},\n",
       "      {'name': 'LoanAmount', 'type': 'int64'},\n",
       "      {'name': 'Loan_Amount_Term', 'type': 'int64'},\n",
       "      {'name': 'Credit_History', 'type': 'int64'},\n",
       "      {'name': 'Property_Area', 'type': 'int64'}],\n",
       "     'id': '1',\n",
       "     'type': 'struct'}],\n",
       "   'output': []},\n",
       "  'software_spec': {'id': '12b83a17-24d8-5082-900f-0ab31fbfd3cb',\n",
       "   'name': 'runtime-22.1-py3.9'},\n",
       "  'type': 'scikit-learn_1.0'},\n",
       " 'metadata': {'created_at': '2022-11-16T10:48:43.132Z',\n",
       "  'id': '03542d22-55b9-4830-af6f-c000da875e4e',\n",
       "  'modified_at': '2022-11-16T10:48:46.959Z',\n",
       "  'name': 'Model_building_SL_223_IBM',\n",
       "  'owner': 'IBMid-6620042VBA',\n",
       "  'resource_key': 'cdb1c157-cfd2-4271-a4a5-9f28198439ca',\n",
       "  'space_id': '99b1a4a9-7cc5-4852-9388-f8907fe20de7'},\n",
       " 'system': {'warnings': []}}"
      ]
     },
     "execution_count": 33,
     "metadata": {},
     "output_type": "execute_result"
    }
   ],
   "source": [
    "model_details"
   ]
  },
  {
   "cell_type": "code",
   "execution_count": 34,
   "metadata": {},
   "outputs": [
    {
     "data": {
      "text/plain": [
       "'03542d22-55b9-4830-af6f-c000da875e4e'"
      ]
     },
     "execution_count": 34,
     "metadata": {},
     "output_type": "execute_result"
    }
   ],
   "source": [
    "model_id = wml_client.repository.get_model_id(model_details)\n",
    "model_id"
   ]
  },
  {
   "cell_type": "code",
   "execution_count": 37,
   "metadata": {},
   "outputs": [],
   "source": [
    "deployment_props = {\n",
    "    wml_client.deployments.ConfigurationMetaNames.NAME:DEPLOYMENT_NAME, \n",
    "    wml_client.deployments.ConfigurationMetaNames.ONLINE: {}\n",
    "}"
   ]
  },
  {
   "cell_type": "code",
   "execution_count": 38,
   "metadata": {},
   "outputs": [
    {
     "name": "stdout",
     "output_type": "stream",
     "text": [
      "\n",
      "\n",
      "#######################################################################################\n",
      "\n",
      "Synchronous deployment creation for uid: '03542d22-55b9-4830-af6f-c000da875e4e' started\n",
      "\n",
      "#######################################################################################\n",
      "\n",
      "\n",
      "initializing\n",
      "Note: online_url is deprecated and will be removed in a future release. Use serving_urls instead.\n",
      "\n",
      "ready\n",
      "\n",
      "\n",
      "------------------------------------------------------------------------------------------------\n",
      "Successfully finished deployment creation, deployment_uid='84569608-2735-48f9-991a-fb61d5a0c2af'\n",
      "------------------------------------------------------------------------------------------------\n",
      "\n",
      "\n"
     ]
    }
   ],
   "source": [
    "deployment = wml_client.deployments.create(\n",
    "    artifact_uid=model_id, \n",
    "    meta_props=deployment_props \n",
    ")"
   ]
  },
  {
   "cell_type": "code",
   "execution_count": null,
   "metadata": {},
   "outputs": [],
   "source": []
  }
 ],
 "metadata": {
  "colab": {
   "authorship_tag": "ABX9TyPWOqth84Q8TwnumBLkb7C5",
   "collapsed_sections": [],
   "mount_file_id": "10YDz5VLr60QmNikdFTSWBxKUMaqxPi2w",
   "provenance": []
  },
  "kernelspec": {
   "display_name": "Python 3.9",
   "language": "python",
   "name": "python3"
  },
  "language_info": {
   "codemirror_mode": {
    "name": "ipython",
    "version": 3
   },
   "file_extension": ".py",
   "mimetype": "text/x-python",
   "name": "python",
   "nbconvert_exporter": "python",
   "pygments_lexer": "ipython3",
   "version": "3.9.13"
  },
  "vscode": {
   "interpreter": {
    "hash": "37372f530c61cdff7bd45c76a406491e95019eb9b4732e008afe24ef8bcd169f"
   }
  }
 },
 "nbformat": 4,
 "nbformat_minor": 1
}
