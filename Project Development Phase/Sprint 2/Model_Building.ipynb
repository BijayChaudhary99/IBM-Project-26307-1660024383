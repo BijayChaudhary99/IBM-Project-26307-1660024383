{
 "cells": [
  {
   "cell_type": "markdown",
   "id": "390ea760",
   "metadata": {},
   "source": [
    "# PROJECT NAME: Smart lender Applicant credibility prediction for loan approval\n",
    "\n",
    "### TEAM MEMBERS:\n",
    "\n",
    "## MEMBER 01 : BIJAY KUMAR CHAUDHARY\n",
    "## MEMBER 02 : SHIVDASH AGRAHARI BANIYA\n",
    "## MEMBER 03 : MOHANRAJ A\n",
    "## MEMBER 04 : MOHANRAJ R"
   ]
  },
  {
   "cell_type": "code",
   "execution_count": null,
   "id": "61531338",
   "metadata": {},
   "outputs": [],
   "source": []
  },
  {
   "cell_type": "markdown",
   "id": "baae7b3a",
   "metadata": {},
   "source": [
    "# Model_Building"
   ]
  },
  {
   "cell_type": "code",
   "execution_count": 1,
   "id": "00fa5dea",
   "metadata": {},
   "outputs": [],
   "source": [
    "import pandas as pd\n",
    "import numpy as np\n",
    "from sklearn.preprocessing import MaxAbsScaler\n",
    "from sklearn.tree import DecisionTreeClassifier\n",
    "from sklearn.ensemble import RandomForestClassifier\n",
    "from sklearn.neighbors import KNeighborsClassifier\n",
    "from sklearn.ensemble import GradientBoostingClassifier\n",
    "from sklearn.metrics import confusion_matrix\n",
    "from sklearn.metrics import classification_report\n",
    "from sklearn.model_selection import cross_val_score\n",
    "from sklearn.metrics import f1_score\n",
    "import pickle"
   ]
  },
  {
   "cell_type": "code",
   "execution_count": 2,
   "id": "8d4d0d44",
   "metadata": {},
   "outputs": [],
   "source": [
    "scaler = MaxAbsScaler()"
   ]
  },
  {
   "cell_type": "code",
   "execution_count": 3,
   "id": "63a5e161",
   "metadata": {},
   "outputs": [],
   "source": [
    "#train dataset\n",
    "train = pd.read_csv('train.csv')"
   ]
  },
  {
   "cell_type": "code",
   "execution_count": 4,
   "id": "369a3a23",
   "metadata": {},
   "outputs": [],
   "source": [
    "#test dataset\n",
    "test = pd.read_csv('test.csv')"
   ]
  },
  {
   "cell_type": "code",
   "execution_count": 5,
   "id": "f752bb5b",
   "metadata": {},
   "outputs": [
    {
     "data": {
      "text/html": [
       "<div>\n",
       "<style scoped>\n",
       "    .dataframe tbody tr th:only-of-type {\n",
       "        vertical-align: middle;\n",
       "    }\n",
       "\n",
       "    .dataframe tbody tr th {\n",
       "        vertical-align: top;\n",
       "    }\n",
       "\n",
       "    .dataframe thead th {\n",
       "        text-align: right;\n",
       "    }\n",
       "</style>\n",
       "<table border=\"1\" class=\"dataframe\">\n",
       "  <thead>\n",
       "    <tr style=\"text-align: right;\">\n",
       "      <th></th>\n",
       "      <th>Gender</th>\n",
       "      <th>Married</th>\n",
       "      <th>Dependents</th>\n",
       "      <th>Education</th>\n",
       "      <th>Self_Employed</th>\n",
       "      <th>ApplicantIncome</th>\n",
       "      <th>CoapplicantIncome</th>\n",
       "      <th>LoanAmount</th>\n",
       "      <th>Loan_Amount_Term</th>\n",
       "      <th>Credit_History</th>\n",
       "      <th>Property_Area</th>\n",
       "      <th>Loan_Status</th>\n",
       "    </tr>\n",
       "  </thead>\n",
       "  <tbody>\n",
       "    <tr>\n",
       "      <th>0</th>\n",
       "      <td>1</td>\n",
       "      <td>1</td>\n",
       "      <td>0</td>\n",
       "      <td>0</td>\n",
       "      <td>0</td>\n",
       "      <td>6000</td>\n",
       "      <td>2250.0</td>\n",
       "      <td>265.0</td>\n",
       "      <td>360.0</td>\n",
       "      <td>1.0</td>\n",
       "      <td>1</td>\n",
       "      <td>0</td>\n",
       "    </tr>\n",
       "    <tr>\n",
       "      <th>1</th>\n",
       "      <td>1</td>\n",
       "      <td>1</td>\n",
       "      <td>0</td>\n",
       "      <td>0</td>\n",
       "      <td>0</td>\n",
       "      <td>2958</td>\n",
       "      <td>2900.0</td>\n",
       "      <td>131.0</td>\n",
       "      <td>360.0</td>\n",
       "      <td>1.0</td>\n",
       "      <td>1</td>\n",
       "      <td>1</td>\n",
       "    </tr>\n",
       "    <tr>\n",
       "      <th>2</th>\n",
       "      <td>1</td>\n",
       "      <td>1</td>\n",
       "      <td>2</td>\n",
       "      <td>0</td>\n",
       "      <td>0</td>\n",
       "      <td>6250</td>\n",
       "      <td>1695.0</td>\n",
       "      <td>210.0</td>\n",
       "      <td>360.0</td>\n",
       "      <td>1.0</td>\n",
       "      <td>1</td>\n",
       "      <td>1</td>\n",
       "    </tr>\n",
       "    <tr>\n",
       "      <th>3</th>\n",
       "      <td>1</td>\n",
       "      <td>1</td>\n",
       "      <td>0</td>\n",
       "      <td>0</td>\n",
       "      <td>0</td>\n",
       "      <td>2083</td>\n",
       "      <td>3150.0</td>\n",
       "      <td>128.0</td>\n",
       "      <td>360.0</td>\n",
       "      <td>1.0</td>\n",
       "      <td>1</td>\n",
       "      <td>1</td>\n",
       "    </tr>\n",
       "    <tr>\n",
       "      <th>4</th>\n",
       "      <td>1</td>\n",
       "      <td>0</td>\n",
       "      <td>0</td>\n",
       "      <td>0</td>\n",
       "      <td>0</td>\n",
       "      <td>4166</td>\n",
       "      <td>0.0</td>\n",
       "      <td>98.0</td>\n",
       "      <td>360.0</td>\n",
       "      <td>0.0</td>\n",
       "      <td>1</td>\n",
       "      <td>0</td>\n",
       "    </tr>\n",
       "  </tbody>\n",
       "</table>\n",
       "</div>"
      ],
      "text/plain": [
       "   Gender  Married  Dependents  Education  Self_Employed  ApplicantIncome  \\\n",
       "0       1        1           0          0              0             6000   \n",
       "1       1        1           0          0              0             2958   \n",
       "2       1        1           2          0              0             6250   \n",
       "3       1        1           0          0              0             2083   \n",
       "4       1        0           0          0              0             4166   \n",
       "\n",
       "   CoapplicantIncome  LoanAmount  Loan_Amount_Term  Credit_History  \\\n",
       "0             2250.0       265.0             360.0             1.0   \n",
       "1             2900.0       131.0             360.0             1.0   \n",
       "2             1695.0       210.0             360.0             1.0   \n",
       "3             3150.0       128.0             360.0             1.0   \n",
       "4                0.0        98.0             360.0             0.0   \n",
       "\n",
       "   Property_Area  Loan_Status  \n",
       "0              1            0  \n",
       "1              1            1  \n",
       "2              1            1  \n",
       "3              1            1  \n",
       "4              1            0  "
      ]
     },
     "execution_count": 5,
     "metadata": {},
     "output_type": "execute_result"
    }
   ],
   "source": [
    "train.head()"
   ]
  },
  {
   "cell_type": "code",
   "execution_count": 7,
   "id": "9f7e8a88",
   "metadata": {},
   "outputs": [],
   "source": [
    "train_y = train.iloc[:,-1]"
   ]
  },
  {
   "cell_type": "code",
   "execution_count": 8,
   "id": "79b274ba",
   "metadata": {},
   "outputs": [],
   "source": [
    "train_x = train.drop('Loan_Status',axis=1)"
   ]
  },
  {
   "cell_type": "code",
   "execution_count": 9,
   "id": "703a0669",
   "metadata": {},
   "outputs": [],
   "source": [
    "test_y = test.iloc[:,-1]"
   ]
  },
  {
   "cell_type": "code",
   "execution_count": 10,
   "id": "d754a609",
   "metadata": {},
   "outputs": [],
   "source": [
    "test_x = test.drop('Loan_Status',axis=1)"
   ]
  },
  {
   "cell_type": "code",
   "execution_count": 11,
   "id": "0a5e164b",
   "metadata": {},
   "outputs": [],
   "source": [
    "x = pd.concat([train_x,test_x],axis=0)\n",
    "y = pd.concat([train_y,test_y],axis=0)"
   ]
  },
  {
   "cell_type": "code",
   "execution_count": 12,
   "id": "35d5c0bc",
   "metadata": {},
   "outputs": [],
   "source": [
    "train_x = scaler.fit_transform(train_x)"
   ]
  },
  {
   "cell_type": "code",
   "execution_count": 13,
   "id": "e1e30e16",
   "metadata": {},
   "outputs": [],
   "source": [
    "test_x = scaler.transform(test_x)"
   ]
  },
  {
   "cell_type": "markdown",
   "id": "fefeea9f",
   "metadata": {},
   "source": [
    "1.Decision tree model"
   ]
  },
  {
   "cell_type": "code",
   "execution_count": 14,
   "id": "0c60c53b",
   "metadata": {},
   "outputs": [],
   "source": [
    "def decisionTree(train_x,test_x,train_y,test_y):\n",
    "    dt = DecisionTreeClassifier()\n",
    "    dt.fit(train_x,train_y)\n",
    "    y_pred = dt.predict(test_x)\n",
    "    print(\"**** Decision Tree Classifier ****\")\n",
    "    print('Confusion Matrix')\n",
    "    print(confusion_matrix(test_y,y_pred))\n",
    "    print('Classification Report')\n",
    "    print(classification_report(test_y,y_pred))"
   ]
  },
  {
   "cell_type": "markdown",
   "id": "deb84a47",
   "metadata": {},
   "source": [
    "2.Random forest model"
   ]
  },
  {
   "cell_type": "code",
   "execution_count": 16,
   "id": "e8e3bc69",
   "metadata": {},
   "outputs": [],
   "source": [
    "def randomForest(train_x,test_x,train_y,test_y):\n",
    "    rf = RandomForestClassifier()\n",
    "    rf.fit(train_x,train_y)\n",
    "    y_pred = rf.predict(test_x)\n",
    "    print(\"**** Random Forest Classifier ****\")\n",
    "    print('Confusion Matrix')\n",
    "    print(confusion_matrix(test_y,y_pred))\n",
    "    print('Classification Report')\n",
    "    print(classification_report(test_y,y_pred))"
   ]
  },
  {
   "cell_type": "markdown",
   "id": "ed8886bb",
   "metadata": {},
   "source": [
    "3.K-nearest Neighbor model"
   ]
  },
  {
   "cell_type": "code",
   "execution_count": 17,
   "id": "8a3c2584",
   "metadata": {},
   "outputs": [],
   "source": [
    "def knn(train_x,test_x,train_y,test_y):\n",
    "    knn = KNeighborsClassifier()\n",
    "    knn.fit(train_x,train_y)\n",
    "    y_pred = knn.predict(test_x)\n",
    "    print(\"**** KNeighbour Classifier ****\")\n",
    "    print('Confusion Matrix')\n",
    "    print(confusion_matrix(test_y,y_pred))\n",
    "    print('Classification Report')\n",
    "    print(classification_report(test_y,y_pred))"
   ]
  },
  {
   "cell_type": "markdown",
   "id": "22dd6c98",
   "metadata": {},
   "source": [
    "4.Xgboost model"
   ]
  },
  {
   "cell_type": "code",
   "execution_count": 18,
   "id": "964e6ed5",
   "metadata": {},
   "outputs": [],
   "source": [
    "def xgboost(train_x,test_x,train_y,test_y):\n",
    "    xg = GradientBoostingClassifier()\n",
    "    xg.fit(train_x,train_y)\n",
    "    y_pred = xg.predict(test_x)\n",
    "    print(\"**** Gradient Boosting Classifier ****\")\n",
    "    print('Confusion Matrix')\n",
    "    print(confusion_matrix(test_y,y_pred))\n",
    "    print('Classification Report')\n",
    "    print(classification_report(test_y,y_pred))"
   ]
  },
  {
   "cell_type": "markdown",
   "id": "321a97ab",
   "metadata": {},
   "source": [
    "Compare all the models"
   ]
  },
  {
   "cell_type": "code",
   "execution_count": 19,
   "id": "24866118",
   "metadata": {},
   "outputs": [
    {
     "name": "stdout",
     "output_type": "stream",
     "text": [
      "**** Decision Tree Classifier ****\n",
      "Confusion Matrix\n",
      "[[23 20]\n",
      " [18 62]]\n",
      "Classification Report\n",
      "              precision    recall  f1-score   support\n",
      "\n",
      "           0       0.56      0.53      0.55        43\n",
      "           1       0.76      0.78      0.77        80\n",
      "\n",
      "    accuracy                           0.69       123\n",
      "   macro avg       0.66      0.65      0.66       123\n",
      "weighted avg       0.69      0.69      0.69       123\n",
      "\n"
     ]
    }
   ],
   "source": [
    "decisionTree(train_x,test_x,train_y,test_y)"
   ]
  },
  {
   "cell_type": "code",
   "execution_count": 20,
   "id": "986afd17",
   "metadata": {},
   "outputs": [
    {
     "name": "stdout",
     "output_type": "stream",
     "text": [
      "**** Random Forest Classifier ****\n",
      "Confusion Matrix\n",
      "[[18 25]\n",
      " [ 3 77]]\n",
      "Classification Report\n",
      "              precision    recall  f1-score   support\n",
      "\n",
      "           0       0.86      0.42      0.56        43\n",
      "           1       0.75      0.96      0.85        80\n",
      "\n",
      "    accuracy                           0.77       123\n",
      "   macro avg       0.81      0.69      0.70       123\n",
      "weighted avg       0.79      0.77      0.75       123\n",
      "\n"
     ]
    }
   ],
   "source": [
    "randomForest(train_x,test_x,train_y,test_y)"
   ]
  },
  {
   "cell_type": "code",
   "execution_count": 21,
   "id": "0465025d",
   "metadata": {},
   "outputs": [
    {
     "name": "stdout",
     "output_type": "stream",
     "text": [
      "**** KNeighbour Classifier ****\n",
      "Confusion Matrix\n",
      "[[18 25]\n",
      " [ 5 75]]\n",
      "Classification Report\n",
      "              precision    recall  f1-score   support\n",
      "\n",
      "           0       0.78      0.42      0.55        43\n",
      "           1       0.75      0.94      0.83        80\n",
      "\n",
      "    accuracy                           0.76       123\n",
      "   macro avg       0.77      0.68      0.69       123\n",
      "weighted avg       0.76      0.76      0.73       123\n",
      "\n"
     ]
    }
   ],
   "source": [
    "knn(train_x,test_x,train_y,test_y)"
   ]
  },
  {
   "cell_type": "code",
   "execution_count": 22,
   "id": "cbd8bf47",
   "metadata": {},
   "outputs": [
    {
     "name": "stdout",
     "output_type": "stream",
     "text": [
      "**** Gradient Boosting Classifier ****\n",
      "Confusion Matrix\n",
      "[[19 24]\n",
      " [ 6 74]]\n",
      "Classification Report\n",
      "              precision    recall  f1-score   support\n",
      "\n",
      "           0       0.76      0.44      0.56        43\n",
      "           1       0.76      0.93      0.83        80\n",
      "\n",
      "    accuracy                           0.76       123\n",
      "   macro avg       0.76      0.68      0.70       123\n",
      "weighted avg       0.76      0.76      0.74       123\n",
      "\n"
     ]
    }
   ],
   "source": [
    "xgboost(train_x,test_x,train_y,test_y)"
   ]
  },
  {
   "cell_type": "code",
   "execution_count": 23,
   "id": "592772cd",
   "metadata": {},
   "outputs": [],
   "source": [
    "#Knn model is selected\n",
    "knn = KNeighborsClassifier()\n",
    "knn.fit(train_x,train_y)\n",
    "y_pred = knn.predict(test_x)"
   ]
  },
  {
   "cell_type": "code",
   "execution_count": 25,
   "id": "1502cdf4",
   "metadata": {},
   "outputs": [
    {
     "data": {
      "text/plain": [
       "0.7795023404779503"
      ]
     },
     "execution_count": 25,
     "metadata": {},
     "output_type": "execute_result"
    }
   ],
   "source": [
    "f1_score(y_pred,test_y,average='weighted')"
   ]
  },
  {
   "cell_type": "code",
   "execution_count": 26,
   "id": "a106ca1b",
   "metadata": {},
   "outputs": [],
   "source": [
    "cv = cross_val_score(knn,x,y,cv=5)"
   ]
  },
  {
   "cell_type": "code",
   "execution_count": 27,
   "id": "586e9181",
   "metadata": {},
   "outputs": [
    {
     "data": {
      "text/plain": [
       "0.6253898440623751"
      ]
     },
     "execution_count": 27,
     "metadata": {},
     "output_type": "execute_result"
    }
   ],
   "source": [
    "np.mean(cv)"
   ]
  },
  {
   "cell_type": "code",
   "execution_count": 28,
   "id": "1405ced1",
   "metadata": {},
   "outputs": [],
   "source": [
    "pickle.dump(knn,open('rdf.pkl','wb'))\n",
    "pickle.dump(scaler,open('scale.pkl','wb'))"
   ]
  },
  {
   "cell_type": "code",
   "execution_count": null,
   "id": "0033588c",
   "metadata": {},
   "outputs": [],
   "source": []
  }
 ],
 "metadata": {
  "kernelspec": {
   "display_name": "Python 3 (ipykernel)",
   "language": "python",
   "name": "python3"
  },
  "language_info": {
   "codemirror_mode": {
    "name": "ipython",
    "version": 3
   },
   "file_extension": ".py",
   "mimetype": "text/x-python",
   "name": "python",
   "nbconvert_exporter": "python",
   "pygments_lexer": "ipython3",
   "version": "3.9.12"
  }
 },
 "nbformat": 4,
 "nbformat_minor": 5
}
